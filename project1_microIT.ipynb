{
  "nbformat": 4,
  "nbformat_minor": 0,
  "metadata": {
    "colab": {
      "provenance": []
    },
    "kernelspec": {
      "name": "python3",
      "display_name": "Python 3"
    },
    "language_info": {
      "name": "python"
    }
  },
  "cells": [
    {
      "cell_type": "code",
      "execution_count": null,
      "metadata": {
        "colab": {
          "base_uri": "https://localhost:8080/"
        },
        "id": "pAhlAzXo-PLr",
        "outputId": "5f706193-57c7-44ee-deb2-9839256f9013"
      },
      "outputs": [
        {
          "output_type": "stream",
          "name": "stdout",
          "text": [
            "***WELCOME TO THE PASSWORD GENERATOR***\n",
            "How many letters would you like in your password: 12\n",
            "How many symbols would you like?: 2\n",
            "How many numbers would you like?: 3\n",
            "['w', 'N', 'B', '!', 'y', '5', 'm', 'S', '2', 'A', 'x', 'n', '0', 'Q', '#', 'Z', 'I']\n",
            "Password:  wNB!y5mS2Axn0Q#ZI\n"
          ]
        }
      ],
      "source": [
        "import random\n",
        "print(\"***WELCOME TO THE PASSWORD GENERATOR***\")\n",
        "letter=['a','b','c','d','e','f','g','h','i','j','k','l','m','n','o','p','q','r','s','t','u','v','w','x','y','z','A','B','C','D','E','F','G','H','I','J','K','L','M','N','O','P','Q','R','S','T','U','V','W','X','Y','Z']\n",
        "number = ['0','1','2','3','4','5','6','7','8','9']\n",
        "symbol = ['!', '#', '$', '%', '&', '(', ')', '*', '+', '@']\n",
        "letter_num=int(input(\"How many letters would you like in your password: \"))\n",
        "symbol_num=int(input(\"How many symbols would you like?: \"))\n",
        "number_num=int(input(\"How many numbers would you like?: \"))\n",
        "characters=[]\n",
        "for i in range(letter_num):\n",
        "    characters.append(random.choice(letter))\n",
        "for i in range(symbol_num):\n",
        "    characters.append(random.choice(symbol))\n",
        "for i in range(number_num):\n",
        "    characters.append(random.choice(number))\n",
        "random.shuffle(characters)\n",
        "print (characters)\n",
        "password=\"\".join(characters)\n",
        "print(\"Password: \",password)\n",
        "\n"
      ]
    },
    {
      "cell_type": "code",
      "source": [],
      "metadata": {
        "id": "UdnBRLLlBi9I"
      },
      "execution_count": null,
      "outputs": []
    },
    {
      "cell_type": "code",
      "source": [],
      "metadata": {
        "id": "Anu4qNobCOrW"
      },
      "execution_count": null,
      "outputs": []
    }
  ]
}